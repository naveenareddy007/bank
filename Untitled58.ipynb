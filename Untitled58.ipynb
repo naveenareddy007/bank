{
 "cells": [
  {
   "cell_type": "code",
   "execution_count": 7,
   "id": "1d329184",
   "metadata": {},
   "outputs": [
    {
     "name": "stdout",
     "output_type": "stream",
     "text": [
      "ashish\n",
      "5000\n",
      "ashish\n",
      "5000\n",
      "5\n"
     ]
    }
   ],
   "source": [
    "class Account:\n",
    "    def __init__(self,title,balance):\n",
    "        self.title=title\n",
    "        self.balance=balance\n",
    "class savingsaccount(Account):\n",
    "    def __init__(self,title,balance,interestrate):\n",
    "        super().__init__(title,balance)\n",
    "        self.interestrate=interestrate\n",
    "        \n",
    "account=Account(\"ashish\",5000) \n",
    "print(account.title)\n",
    "print(account.balance)\n",
    "\n",
    "savingsAccount =savingsaccount(\"ashish\",5000,5)\n",
    "print(savingsAccount.title)\n",
    "print(savingsAccount.balance)\n",
    "print(savingsAccount.interestrate)"
   ]
  },
  {
   "cell_type": "code",
   "execution_count": null,
   "id": "fa787af1",
   "metadata": {},
   "outputs": [],
   "source": []
  }
 ],
 "metadata": {
  "kernelspec": {
   "display_name": "Python 3 (ipykernel)",
   "language": "python",
   "name": "python3"
  },
  "language_info": {
   "codemirror_mode": {
    "name": "ipython",
    "version": 3
   },
   "file_extension": ".py",
   "mimetype": "text/x-python",
   "name": "python",
   "nbconvert_exporter": "python",
   "pygments_lexer": "ipython3",
   "version": "3.10.9"
  }
 },
 "nbformat": 4,
 "nbformat_minor": 5
}
